{
 "cells": [
  {
   "cell_type": "code",
   "execution_count": 7,
   "id": "240160f2",
   "metadata": {},
   "outputs": [],
   "source": [
    "import collections\n",
    "import heapq"
   ]
  },
  {
   "cell_type": "markdown",
   "id": "653fcad3",
   "metadata": {},
   "source": [
    "# Heapq : Heap queue algorithm\n",
    "## Heaps are binary trees for which every parent node has a value less than or equal to any of its children. \n"
   ]
  },
  {
   "cell_type": "code",
   "execution_count": 40,
   "id": "8a1a3579",
   "metadata": {},
   "outputs": [],
   "source": [
    "from heapq import *\n"
   ]
  },
  {
   "cell_type": "code",
   "execution_count": 41,
   "id": "fbe07c1a",
   "metadata": {},
   "outputs": [],
   "source": [
    "# create an empty list and push element, a tuple into it and form a heapq\n",
    "hp = []\n",
    "heappush(hp,(0.1, 0,0))"
   ]
  },
  {
   "cell_type": "code",
   "execution_count": 42,
   "id": "49465a7e",
   "metadata": {},
   "outputs": [
    {
     "name": "stdout",
     "output_type": "stream",
     "text": [
      "[(0.1, 0, 0)]\n"
     ]
    }
   ],
   "source": [
    "print(hp)"
   ]
  },
  {
   "cell_type": "code",
   "execution_count": 43,
   "id": "cf21fb7c",
   "metadata": {},
   "outputs": [],
   "source": [
    "# push another element, note the order \n",
    "heappush(hp,(0.5, 1,0))"
   ]
  },
  {
   "cell_type": "code",
   "execution_count": 44,
   "id": "bda1be4e",
   "metadata": {},
   "outputs": [
    {
     "name": "stdout",
     "output_type": "stream",
     "text": [
      "[(0.1, 0, 0), (0.5, 1, 0)]\n"
     ]
    }
   ],
   "source": [
    "print(hp)"
   ]
  },
  {
   "cell_type": "code",
   "execution_count": 45,
   "id": "d9b7ede9",
   "metadata": {},
   "outputs": [
    {
     "data": {
      "text/plain": [
       "(0.1, 0, 0)"
      ]
     },
     "execution_count": 45,
     "metadata": {},
     "output_type": "execute_result"
    }
   ],
   "source": [
    "# the 0 index element is always the smallest one \n",
    "hp[0]"
   ]
  },
  {
   "cell_type": "code",
   "execution_count": 46,
   "id": "001225d3",
   "metadata": {},
   "outputs": [
    {
     "data": {
      "text/plain": [
       "0.1"
      ]
     },
     "execution_count": 46,
     "metadata": {},
     "output_type": "execute_result"
    }
   ],
   "source": [
    "hp[0][0]"
   ]
  },
  {
   "cell_type": "code",
   "execution_count": 47,
   "id": "214ec70f",
   "metadata": {},
   "outputs": [
    {
     "name": "stdout",
     "output_type": "stream",
     "text": [
      "(0.1, 0, 0)\n"
     ]
    }
   ],
   "source": [
    "# heappop would pop out the smallest element\n",
    "print(heappop(hp))"
   ]
  },
  {
   "cell_type": "code",
   "execution_count": 48,
   "id": "53204554",
   "metadata": {},
   "outputs": [
    {
     "name": "stdout",
     "output_type": "stream",
     "text": [
      "[(0.5, 1, 0)]\n"
     ]
    }
   ],
   "source": [
    "print(hp)"
   ]
  },
  {
   "cell_type": "code",
   "execution_count": 49,
   "id": "47f6f3ce",
   "metadata": {},
   "outputs": [
    {
     "name": "stdout",
     "output_type": "stream",
     "text": [
      "(0.2, 2, 0)\n"
     ]
    }
   ],
   "source": [
    "# heappushpop would push the element in first then pop out the smallest one\n",
    "print(heappushpop(hp, (0.2,2,0)))"
   ]
  },
  {
   "cell_type": "code",
   "execution_count": 68,
   "id": "7103edbe",
   "metadata": {},
   "outputs": [],
   "source": [
    "x = [1,2,3]"
   ]
  },
  {
   "cell_type": "code",
   "execution_count": 69,
   "id": "6b79c916",
   "metadata": {},
   "outputs": [],
   "source": [
    "# heapify would heapq the iterable x \n",
    "heapify(x)"
   ]
  },
  {
   "cell_type": "code",
   "execution_count": 70,
   "id": "8d5b6311",
   "metadata": {},
   "outputs": [
    {
     "name": "stdout",
     "output_type": "stream",
     "text": [
      "[1, 2, 3]\n"
     ]
    }
   ],
   "source": [
    "print(x)"
   ]
  },
  {
   "cell_type": "code",
   "execution_count": 71,
   "id": "4b201132",
   "metadata": {},
   "outputs": [
    {
     "data": {
      "text/plain": [
       "1"
      ]
     },
     "execution_count": 71,
     "metadata": {},
     "output_type": "execute_result"
    }
   ],
   "source": [
    "x[0]"
   ]
  },
  {
   "cell_type": "code",
   "execution_count": 72,
   "id": "ccd55e9a",
   "metadata": {},
   "outputs": [
    {
     "data": {
      "text/plain": [
       "[3, 2]"
      ]
     },
     "execution_count": 72,
     "metadata": {},
     "output_type": "execute_result"
    }
   ],
   "source": [
    "# return the n largest elements \n",
    "nlargest(2,x)"
   ]
  },
  {
   "cell_type": "code",
   "execution_count": 73,
   "id": "c11c578e",
   "metadata": {},
   "outputs": [
    {
     "data": {
      "text/plain": [
       "[1, 2]"
      ]
     },
     "execution_count": 73,
     "metadata": {},
     "output_type": "execute_result"
    }
   ],
   "source": [
    "# return the n smallest elements \n",
    "nsmallest(2,x)"
   ]
  },
  {
   "cell_type": "code",
   "execution_count": 74,
   "id": "8cbfc438",
   "metadata": {},
   "outputs": [
    {
     "data": {
      "text/plain": [
       "1"
      ]
     },
     "execution_count": 74,
     "metadata": {},
     "output_type": "execute_result"
    }
   ],
   "source": [
    "# pop and return the smallest and push in the new element\n",
    "heapreplace(x, 4)"
   ]
  },
  {
   "cell_type": "code",
   "execution_count": null,
   "id": "f83b03b5",
   "metadata": {},
   "outputs": [],
   "source": []
  },
  {
   "cell_type": "code",
   "execution_count": null,
   "id": "39308ce7",
   "metadata": {},
   "outputs": [],
   "source": []
  },
  {
   "cell_type": "code",
   "execution_count": null,
   "id": "f2db7fb6",
   "metadata": {},
   "outputs": [],
   "source": []
  },
  {
   "cell_type": "code",
   "execution_count": null,
   "id": "cb2c8014",
   "metadata": {},
   "outputs": [],
   "source": []
  },
  {
   "cell_type": "code",
   "execution_count": null,
   "id": "3be756d5",
   "metadata": {},
   "outputs": [],
   "source": []
  }
 ],
 "metadata": {
  "kernelspec": {
   "display_name": "Python 3 (ipykernel)",
   "language": "python",
   "name": "python3"
  },
  "language_info": {
   "codemirror_mode": {
    "name": "ipython",
    "version": 3
   },
   "file_extension": ".py",
   "mimetype": "text/x-python",
   "name": "python",
   "nbconvert_exporter": "python",
   "pygments_lexer": "ipython3",
   "version": "3.8.12"
  }
 },
 "nbformat": 4,
 "nbformat_minor": 5
}
