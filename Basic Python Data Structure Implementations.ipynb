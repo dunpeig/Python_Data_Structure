{
 "cells": [
  {
   "cell_type": "code",
   "execution_count": 7,
   "id": "c771ce9d",
   "metadata": {},
   "outputs": [],
   "source": [
    "import collections\n",
    "import heapq"
   ]
  },
  {
   "cell_type": "markdown",
   "id": "516411ac",
   "metadata": {},
   "source": [
    "# Heapq : Heap queue algorithm\n",
    "## Heaps are binary trees for which every parent node has a value less than or equal to any of its children. \n"
   ]
  },
  {
   "cell_type": "code",
   "execution_count": 40,
   "id": "d5d1983d",
   "metadata": {},
   "outputs": [],
   "source": [
    "from heapq import *\n"
   ]
  },
  {
   "cell_type": "code",
   "execution_count": 41,
   "id": "bdd483cc",
   "metadata": {},
   "outputs": [],
   "source": [
    "# create an empty list and push element, a tuple into it and form a heapq\n",
    "hp = []\n",
    "heappush(hp,(0.1, 0,0))"
   ]
  },
  {
   "cell_type": "code",
   "execution_count": 42,
   "id": "d29b9ce7",
   "metadata": {},
   "outputs": [
    {
     "name": "stdout",
     "output_type": "stream",
     "text": [
      "[(0.1, 0, 0)]\n"
     ]
    }
   ],
   "source": [
    "print(hp)"
   ]
  },
  {
   "cell_type": "code",
   "execution_count": 43,
   "id": "80b6756f",
   "metadata": {},
   "outputs": [],
   "source": [
    "# push another element, note the order \n",
    "heappush(hp,(0.5, 1,0))"
   ]
  },
  {
   "cell_type": "code",
   "execution_count": 44,
   "id": "aaf6f898",
   "metadata": {},
   "outputs": [
    {
     "name": "stdout",
     "output_type": "stream",
     "text": [
      "[(0.1, 0, 0), (0.5, 1, 0)]\n"
     ]
    }
   ],
   "source": [
    "print(hp)"
   ]
  },
  {
   "cell_type": "code",
   "execution_count": 45,
   "id": "af623200",
   "metadata": {},
   "outputs": [
    {
     "data": {
      "text/plain": [
       "(0.1, 0, 0)"
      ]
     },
     "execution_count": 45,
     "metadata": {},
     "output_type": "execute_result"
    }
   ],
   "source": [
    "# the 0 index element is always the smallest one \n",
    "hp[0]"
   ]
  },
  {
   "cell_type": "code",
   "execution_count": 46,
   "id": "fb17c841",
   "metadata": {},
   "outputs": [
    {
     "data": {
      "text/plain": [
       "0.1"
      ]
     },
     "execution_count": 46,
     "metadata": {},
     "output_type": "execute_result"
    }
   ],
   "source": [
    "hp[0][0]"
   ]
  },
  {
   "cell_type": "code",
   "execution_count": 47,
   "id": "1a109651",
   "metadata": {},
   "outputs": [
    {
     "name": "stdout",
     "output_type": "stream",
     "text": [
      "(0.1, 0, 0)\n"
     ]
    }
   ],
   "source": [
    "# heappop would pop out the smallest element\n",
    "print(heappop(hp))"
   ]
  },
  {
   "cell_type": "code",
   "execution_count": 48,
   "id": "df61ee9d",
   "metadata": {},
   "outputs": [
    {
     "name": "stdout",
     "output_type": "stream",
     "text": [
      "[(0.5, 1, 0)]\n"
     ]
    }
   ],
   "source": [
    "print(hp)"
   ]
  },
  {
   "cell_type": "code",
   "execution_count": 49,
   "id": "f2fd17f6",
   "metadata": {},
   "outputs": [
    {
     "name": "stdout",
     "output_type": "stream",
     "text": [
      "(0.2, 2, 0)\n"
     ]
    }
   ],
   "source": [
    "# heappushpop would push the element in first then pop out the smallest one\n",
    "print(heappushpop(hp, (0.2,2,0)))"
   ]
  },
  {
   "cell_type": "code",
   "execution_count": 68,
   "id": "5a288f6f",
   "metadata": {},
   "outputs": [],
   "source": [
    "x = [1,2,3]"
   ]
  },
  {
   "cell_type": "code",
   "execution_count": 69,
   "id": "40d3a309",
   "metadata": {},
   "outputs": [],
   "source": [
    "# heapify would heapq the iterable x \n",
    "heapify(x)"
   ]
  },
  {
   "cell_type": "code",
   "execution_count": 70,
   "id": "c1603d51",
   "metadata": {},
   "outputs": [
    {
     "name": "stdout",
     "output_type": "stream",
     "text": [
      "[1, 2, 3]\n"
     ]
    }
   ],
   "source": [
    "print(x)"
   ]
  },
  {
   "cell_type": "code",
   "execution_count": 71,
   "id": "cb1c7fd9",
   "metadata": {},
   "outputs": [
    {
     "data": {
      "text/plain": [
       "1"
      ]
     },
     "execution_count": 71,
     "metadata": {},
     "output_type": "execute_result"
    }
   ],
   "source": [
    "x[0]"
   ]
  },
  {
   "cell_type": "code",
   "execution_count": 72,
   "id": "acc0f6b7",
   "metadata": {},
   "outputs": [
    {
     "data": {
      "text/plain": [
       "[3, 2]"
      ]
     },
     "execution_count": 72,
     "metadata": {},
     "output_type": "execute_result"
    }
   ],
   "source": [
    "# return the n largest elements \n",
    "nlargest(2,x)"
   ]
  },
  {
   "cell_type": "code",
   "execution_count": 73,
   "id": "e31e9031",
   "metadata": {},
   "outputs": [
    {
     "data": {
      "text/plain": [
       "[1, 2]"
      ]
     },
     "execution_count": 73,
     "metadata": {},
     "output_type": "execute_result"
    }
   ],
   "source": [
    "# return the n smallest elements \n",
    "nsmallest(2,x)"
   ]
  },
  {
   "cell_type": "code",
   "execution_count": 74,
   "id": "71b5ce77",
   "metadata": {},
   "outputs": [
    {
     "data": {
      "text/plain": [
       "1"
      ]
     },
     "execution_count": 74,
     "metadata": {},
     "output_type": "execute_result"
    }
   ],
   "source": [
    "# pop and return the smallest and push in the new element\n",
    "heapreplace(x, 4)"
   ]
  },
  {
   "cell_type": "code",
   "execution_count": null,
   "id": "4072c05b",
   "metadata": {},
   "outputs": [],
   "source": []
  },
  {
   "cell_type": "markdown",
   "id": "3c64a424",
   "metadata": {},
   "source": [
    "# deque object \n",
    "## "
   ]
  },
  {
   "cell_type": "code",
   "execution_count": 85,
   "id": "eb27b0a6",
   "metadata": {},
   "outputs": [],
   "source": [
    "from collections import deque "
   ]
  },
  {
   "cell_type": "code",
   "execution_count": 86,
   "id": "a6ff485b",
   "metadata": {},
   "outputs": [],
   "source": [
    "d = deque()"
   ]
  },
  {
   "cell_type": "code",
   "execution_count": null,
   "id": "97531eba",
   "metadata": {},
   "outputs": [],
   "source": []
  },
  {
   "cell_type": "code",
   "execution_count": null,
   "id": "b5b247ec",
   "metadata": {},
   "outputs": [],
   "source": []
  },
  {
   "cell_type": "code",
   "execution_count": null,
   "id": "da7c574c",
   "metadata": {},
   "outputs": [],
   "source": []
  },
  {
   "cell_type": "code",
   "execution_count": null,
   "id": "6b79c7af",
   "metadata": {},
   "outputs": [],
   "source": []
  },
  {
   "cell_type": "code",
   "execution_count": null,
   "id": "db5926ea",
   "metadata": {},
   "outputs": [],
   "source": []
  },
  {
   "cell_type": "markdown",
   "id": "e9381540",
   "metadata": {},
   "source": [
    "# Leetcode Minstack data structure implementation"
   ]
  },
  {
   "cell_type": "code",
   "execution_count": 83,
   "id": "cbc89b20",
   "metadata": {},
   "outputs": [],
   "source": [
    "class MinStack:\n",
    "\n",
    "    def __init__(self):\n",
    "        self.stack = []\n",
    "\n",
    "    def push(self, x: int) -> None:\n",
    "        \n",
    "        # If the stack is empty, then the min value\n",
    "        # must just be the first value we add\n",
    "        if not self.stack:\n",
    "            self.stack.append((x, x))\n",
    "            return\n",
    "\n",
    "        current_min = self.stack[-1][1]\n",
    "        # always store the minimum value when push the element into the stack\n",
    "        self.stack.append((x, min(x, current_min)))\n",
    "        \n",
    "        \n",
    "    def pop(self) -> None:\n",
    "        self.stack.pop()\n",
    "        \n",
    "\n",
    "    def top(self) -> int:\n",
    "        return self.stack[-1][0]\n",
    "    \n",
    "    def getMin(self) -> int:\n",
    "        return self.stack[-1][1]\n",
    "        \n"
   ]
  },
  {
   "cell_type": "code",
   "execution_count": 84,
   "id": "e4f68dba",
   "metadata": {},
   "outputs": [
    {
     "data": {
      "text/plain": [
       "3"
      ]
     },
     "execution_count": 84,
     "metadata": {},
     "output_type": "execute_result"
    }
   ],
   "source": [
    "min_stack = MinStack()\n",
    "min_stack.push(1)\n",
    "min_stack.push(3)\n",
    "min_stack.top()"
   ]
  },
  {
   "cell_type": "code",
   "execution_count": null,
   "id": "81f330c2",
   "metadata": {},
   "outputs": [],
   "source": []
  },
  {
   "cell_type": "code",
   "execution_count": null,
   "id": "f9a40132",
   "metadata": {},
   "outputs": [],
   "source": []
  },
  {
   "cell_type": "code",
   "execution_count": null,
   "id": "45d6eefc",
   "metadata": {},
   "outputs": [],
   "source": []
  },
  {
   "cell_type": "code",
   "execution_count": null,
   "id": "db9b11fa",
   "metadata": {},
   "outputs": [],
   "source": []
  }
 ],
 "metadata": {
  "kernelspec": {
   "display_name": "Python 3 (ipykernel)",
   "language": "python",
   "name": "python3"
  },
  "language_info": {
   "codemirror_mode": {
    "name": "ipython",
    "version": 3
   },
   "file_extension": ".py",
   "mimetype": "text/x-python",
   "name": "python",
   "nbconvert_exporter": "python",
   "pygments_lexer": "ipython3",
   "version": "3.8.12"
  }
 },
 "nbformat": 4,
 "nbformat_minor": 5
}
