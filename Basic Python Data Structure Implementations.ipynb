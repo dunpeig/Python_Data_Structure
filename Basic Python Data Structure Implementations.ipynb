{
 "cells": [
  {
   "cell_type": "code",
   "execution_count": 1,
   "id": "f4e21052",
   "metadata": {},
   "outputs": [],
   "source": [
    "import collections\n",
    "import heapq"
   ]
  },
  {
   "cell_type": "markdown",
   "id": "6c1d006f",
   "metadata": {},
   "source": [
    "# Heapq : Heap queue algorithm\n",
    "## Heaps are binary trees for which every parent node has a value less than or equal to any of its children. \n"
   ]
  },
  {
   "cell_type": "code",
   "execution_count": 2,
   "id": "21846152",
   "metadata": {},
   "outputs": [],
   "source": [
    "from heapq import *\n"
   ]
  },
  {
   "cell_type": "code",
   "execution_count": 3,
   "id": "fe65ce82",
   "metadata": {},
   "outputs": [],
   "source": [
    "# create an empty list and push element, a tuple into it and form a heapq\n",
    "hp = []\n",
    "heappush(hp,(0.1, 0,0))"
   ]
  },
  {
   "cell_type": "code",
   "execution_count": 4,
   "id": "40f3895d",
   "metadata": {},
   "outputs": [
    {
     "name": "stdout",
     "output_type": "stream",
     "text": [
      "[(0.1, 0, 0)]\n"
     ]
    }
   ],
   "source": [
    "print(hp)"
   ]
  },
  {
   "cell_type": "code",
   "execution_count": 5,
   "id": "70c38d7d",
   "metadata": {},
   "outputs": [],
   "source": [
    "# push another element, note the order \n",
    "heappush(hp,(0.5, 1,0))"
   ]
  },
  {
   "cell_type": "code",
   "execution_count": 6,
   "id": "13a874e4",
   "metadata": {},
   "outputs": [
    {
     "name": "stdout",
     "output_type": "stream",
     "text": [
      "[(0.1, 0, 0), (0.5, 1, 0)]\n"
     ]
    }
   ],
   "source": [
    "print(hp)"
   ]
  },
  {
   "cell_type": "code",
   "execution_count": 7,
   "id": "5c097bc2",
   "metadata": {},
   "outputs": [
    {
     "data": {
      "text/plain": [
       "(0.1, 0, 0)"
      ]
     },
     "execution_count": 7,
     "metadata": {},
     "output_type": "execute_result"
    }
   ],
   "source": [
    "# the 0 index element is always the smallest one \n",
    "hp[0]"
   ]
  },
  {
   "cell_type": "code",
   "execution_count": 8,
   "id": "6209cd49",
   "metadata": {},
   "outputs": [
    {
     "data": {
      "text/plain": [
       "0.1"
      ]
     },
     "execution_count": 8,
     "metadata": {},
     "output_type": "execute_result"
    }
   ],
   "source": [
    "hp[0][0]"
   ]
  },
  {
   "cell_type": "code",
   "execution_count": 9,
   "id": "dd76e758",
   "metadata": {},
   "outputs": [
    {
     "name": "stdout",
     "output_type": "stream",
     "text": [
      "(0.1, 0, 0)\n"
     ]
    }
   ],
   "source": [
    "# heappop would pop out the smallest element\n",
    "print(heappop(hp))"
   ]
  },
  {
   "cell_type": "code",
   "execution_count": 10,
   "id": "88b7947a",
   "metadata": {},
   "outputs": [
    {
     "name": "stdout",
     "output_type": "stream",
     "text": [
      "[(0.5, 1, 0)]\n"
     ]
    }
   ],
   "source": [
    "print(hp)"
   ]
  },
  {
   "cell_type": "code",
   "execution_count": 11,
   "id": "506133bd",
   "metadata": {},
   "outputs": [
    {
     "name": "stdout",
     "output_type": "stream",
     "text": [
      "(0.2, 2, 0)\n"
     ]
    }
   ],
   "source": [
    "# heappushpop would push the element in first then pop out the smallest one\n",
    "print(heappushpop(hp, (0.2,2,0)))"
   ]
  },
  {
   "cell_type": "code",
   "execution_count": 12,
   "id": "c6608128",
   "metadata": {},
   "outputs": [],
   "source": [
    "x = [1,2,3]"
   ]
  },
  {
   "cell_type": "code",
   "execution_count": 13,
   "id": "08fb1145",
   "metadata": {},
   "outputs": [],
   "source": [
    "# heapify would heapq the iterable x \n",
    "heapify(x)"
   ]
  },
  {
   "cell_type": "code",
   "execution_count": 14,
   "id": "9dc36a3f",
   "metadata": {},
   "outputs": [
    {
     "name": "stdout",
     "output_type": "stream",
     "text": [
      "[1, 2, 3]\n"
     ]
    }
   ],
   "source": [
    "print(x)"
   ]
  },
  {
   "cell_type": "code",
   "execution_count": 15,
   "id": "4d7d6f90",
   "metadata": {},
   "outputs": [
    {
     "data": {
      "text/plain": [
       "1"
      ]
     },
     "execution_count": 15,
     "metadata": {},
     "output_type": "execute_result"
    }
   ],
   "source": [
    "x[0]"
   ]
  },
  {
   "cell_type": "code",
   "execution_count": 16,
   "id": "24f2ef7e",
   "metadata": {},
   "outputs": [
    {
     "data": {
      "text/plain": [
       "[3, 2]"
      ]
     },
     "execution_count": 16,
     "metadata": {},
     "output_type": "execute_result"
    }
   ],
   "source": [
    "# return the n largest elements \n",
    "nlargest(2,x)"
   ]
  },
  {
   "cell_type": "code",
   "execution_count": 17,
   "id": "36fd7328",
   "metadata": {},
   "outputs": [
    {
     "data": {
      "text/plain": [
       "[1, 2]"
      ]
     },
     "execution_count": 17,
     "metadata": {},
     "output_type": "execute_result"
    }
   ],
   "source": [
    "# return the n smallest elements \n",
    "nsmallest(2,x)"
   ]
  },
  {
   "cell_type": "code",
   "execution_count": 18,
   "id": "ab67feed",
   "metadata": {},
   "outputs": [
    {
     "data": {
      "text/plain": [
       "1"
      ]
     },
     "execution_count": 18,
     "metadata": {},
     "output_type": "execute_result"
    }
   ],
   "source": [
    "# pop and return the smallest and push in the new element\n",
    "heapreplace(x, 4)"
   ]
  },
  {
   "cell_type": "code",
   "execution_count": null,
   "id": "315a5c97",
   "metadata": {},
   "outputs": [],
   "source": []
  },
  {
   "cell_type": "markdown",
   "id": "789cb00e",
   "metadata": {},
   "source": [
    "# deque object \n",
    "## "
   ]
  },
  {
   "cell_type": "code",
   "execution_count": 19,
   "id": "13e865c9",
   "metadata": {},
   "outputs": [],
   "source": [
    "from collections import deque "
   ]
  },
  {
   "cell_type": "code",
   "execution_count": 20,
   "id": "96ce7170",
   "metadata": {},
   "outputs": [],
   "source": [
    "d = deque()"
   ]
  },
  {
   "cell_type": "code",
   "execution_count": null,
   "id": "0888f3bd",
   "metadata": {},
   "outputs": [],
   "source": []
  },
  {
   "cell_type": "code",
   "execution_count": null,
   "id": "4f4493d1",
   "metadata": {},
   "outputs": [],
   "source": []
  },
  {
   "cell_type": "code",
   "execution_count": null,
   "id": "210004b0",
   "metadata": {},
   "outputs": [],
   "source": []
  },
  {
   "cell_type": "code",
   "execution_count": null,
   "id": "aa900a36",
   "metadata": {},
   "outputs": [],
   "source": []
  },
  {
   "cell_type": "code",
   "execution_count": null,
   "id": "f9167441",
   "metadata": {},
   "outputs": [],
   "source": []
  },
  {
   "cell_type": "markdown",
   "id": "653e1202",
   "metadata": {},
   "source": [
    "# Leetcode Minstack data structure implementation"
   ]
  },
  {
   "cell_type": "code",
   "execution_count": 21,
   "id": "4d1e4edb",
   "metadata": {},
   "outputs": [],
   "source": [
    "class MinStack:\n",
    "\n",
    "    def __init__(self):\n",
    "        self.stack = []\n",
    "\n",
    "    def push(self, x: int) -> None:\n",
    "        \n",
    "        # If the stack is empty, then the min value\n",
    "        # must just be the first value we add\n",
    "        if not self.stack:\n",
    "            self.stack.append((x, x))\n",
    "            return\n",
    "\n",
    "        current_min = self.stack[-1][1]\n",
    "        # always store the minimum value when push the element into the stack\n",
    "        self.stack.append((x, min(x, current_min)))\n",
    "        \n",
    "        \n",
    "    def pop(self) -> None:\n",
    "        self.stack.pop()\n",
    "        \n",
    "\n",
    "    def top(self) -> int:\n",
    "        return self.stack[-1][0]\n",
    "    \n",
    "    def getMin(self) -> int:\n",
    "        return self.stack[-1][1]\n",
    "        \n"
   ]
  },
  {
   "cell_type": "code",
   "execution_count": 22,
   "id": "c4801f0b",
   "metadata": {},
   "outputs": [
    {
     "data": {
      "text/plain": [
       "3"
      ]
     },
     "execution_count": 22,
     "metadata": {},
     "output_type": "execute_result"
    }
   ],
   "source": [
    "min_stack = MinStack()\n",
    "min_stack.push(1)\n",
    "min_stack.push(3)\n",
    "min_stack.top()"
   ]
  },
  {
   "cell_type": "code",
   "execution_count": null,
   "id": "057c1fc5",
   "metadata": {},
   "outputs": [],
   "source": []
  },
  {
   "cell_type": "markdown",
   "id": "754b7949",
   "metadata": {},
   "source": [
    "## Deque "
   ]
  },
  {
   "cell_type": "code",
   "execution_count": 23,
   "id": "a5936675",
   "metadata": {},
   "outputs": [],
   "source": [
    "from collections import deque\n",
    "\n",
    "# Creating an empty deque\n",
    "my_deque = deque()\n",
    "\n",
    "# Creating a deque from an iterable (e.g., list)\n",
    "my_deque_from_list = deque([1, 2, 3, 4, 5])"
   ]
  },
  {
   "cell_type": "code",
   "execution_count": 24,
   "id": "59c6531b",
   "metadata": {},
   "outputs": [],
   "source": [
    "# Append to the right\n",
    "my_deque.append(6)\n",
    "\n",
    "# Append to the left\n",
    "my_deque.append(0)\n",
    "\n",
    "# Pop from the right\n",
    "right_element = my_deque.pop()\n",
    "\n",
    "# Pop from the left\n",
    "left_element = my_deque.popleft()"
   ]
  },
  {
   "cell_type": "code",
   "execution_count": null,
   "id": "29dd66cf",
   "metadata": {},
   "outputs": [],
   "source": []
  },
  {
   "cell_type": "code",
   "execution_count": 25,
   "id": "3a3b4c44",
   "metadata": {},
   "outputs": [
    {
     "data": {
      "text/plain": [
       "0"
      ]
     },
     "execution_count": 25,
     "metadata": {},
     "output_type": "execute_result"
    }
   ],
   "source": [
    "right_element"
   ]
  },
  {
   "cell_type": "code",
   "execution_count": null,
   "id": "79c8cd8f",
   "metadata": {},
   "outputs": [],
   "source": [
    "# Access elements using indexing\n",
    "first_element = my_deque[0]\n",
    "last_element = my_deque[-1]"
   ]
  },
  {
   "cell_type": "code",
   "execution_count": null,
   "id": "55713bc1",
   "metadata": {},
   "outputs": [],
   "source": [
    "# Rotate to the right (positive argument)\n",
    "my_deque.rotate(1)\n",
    "\n",
    "# Rotate to the left (negative argument)\n",
    "my_deque.rotate(-1)"
   ]
  },
  {
   "cell_type": "code",
   "execution_count": null,
   "id": "b625aaa3",
   "metadata": {},
   "outputs": [],
   "source": [
    "# Get the length of the deque\n",
    "deque_length = len(my_deque)"
   ]
  },
  {
   "cell_type": "code",
   "execution_count": null,
   "id": "35ede1e0",
   "metadata": {},
   "outputs": [],
   "source": [
    "# Clear all elements from the deque\n",
    "my_deque.clear()"
   ]
  },
  {
   "cell_type": "code",
   "execution_count": null,
   "id": "034c5544",
   "metadata": {},
   "outputs": [],
   "source": [
    "# Extend from the right\n",
    "my_deque.extend([7, 8, 9])\n",
    "\n",
    "# Extend from the left\n",
    "my_deque.extendleft([-1, -2, -3])"
   ]
  },
  {
   "cell_type": "code",
   "execution_count": null,
   "id": "f255b75e",
   "metadata": {},
   "outputs": [],
   "source": []
  },
  {
   "cell_type": "markdown",
   "id": "8a8f5dd5",
   "metadata": {},
   "source": [
    "## Default Dictionary"
   ]
  },
  {
   "cell_type": "code",
   "execution_count": 27,
   "id": "88600fd1",
   "metadata": {},
   "outputs": [],
   "source": [
    "from collections import defaultdict"
   ]
  },
  {
   "cell_type": "code",
   "execution_count": 28,
   "id": "80e436f5",
   "metadata": {},
   "outputs": [
    {
     "data": {
      "text/plain": [
       "[('i', 4), ('m', 1), ('p', 2), ('s', 4)]"
      ]
     },
     "execution_count": 28,
     "metadata": {},
     "output_type": "execute_result"
    }
   ],
   "source": [
    "s = 'mississippi'\n",
    "d = defaultdict(int)\n",
    "for k in s:\n",
    "    d[k] += 1\n",
    "\n",
    "sorted(d.items())"
   ]
  },
  {
   "cell_type": "code",
   "execution_count": 31,
   "id": "ea617a19",
   "metadata": {},
   "outputs": [
    {
     "data": {
      "text/plain": [
       "[1, 2, 4, 4]"
      ]
     },
     "execution_count": 31,
     "metadata": {},
     "output_type": "execute_result"
    }
   ],
   "source": [
    "sorted(d.values())"
   ]
  },
  {
   "cell_type": "code",
   "execution_count": null,
   "id": "f338c611",
   "metadata": {},
   "outputs": [],
   "source": []
  },
  {
   "cell_type": "code",
   "execution_count": null,
   "id": "1ea3d5d6",
   "metadata": {},
   "outputs": [],
   "source": []
  },
  {
   "cell_type": "code",
   "execution_count": null,
   "id": "e6a6a68e",
   "metadata": {},
   "outputs": [],
   "source": []
  },
  {
   "cell_type": "code",
   "execution_count": null,
   "id": "0c984a3e",
   "metadata": {},
   "outputs": [],
   "source": []
  },
  {
   "cell_type": "code",
   "execution_count": null,
   "id": "5a518135",
   "metadata": {},
   "outputs": [],
   "source": []
  },
  {
   "cell_type": "code",
   "execution_count": null,
   "id": "d38c1656",
   "metadata": {},
   "outputs": [],
   "source": []
  },
  {
   "cell_type": "markdown",
   "id": "51d191ed",
   "metadata": {},
   "source": [
    "## Very useful list comprehension and matrix inversion "
   ]
  },
  {
   "cell_type": "code",
   "execution_count": 96,
   "id": "03fe4679",
   "metadata": {},
   "outputs": [],
   "source": [
    "from typing import List"
   ]
  },
  {
   "cell_type": "code",
   "execution_count": 97,
   "id": "6f80c43a",
   "metadata": {},
   "outputs": [],
   "source": [
    "# Leetcode 2482\n",
    "class Solution:\n",
    "    def onesMinusZeros(self, grid: List[List[int]]) -> List[List[int]]:\n",
    "        m, n = len(grid), len(grid[0])\n",
    "        diff = [[0]*n for _ in range(m)]\n",
    "        def summation(nums):\n",
    "            return sum(nums)*2 - len(nums)\n",
    "        res_row = list(map(summation, grid))\n",
    "        res_col = list(map(summation, zip(*grid)))\n",
    "        for i, j in product(range(m), range(n)):\n",
    "            diff[i][j] = res_row[i] + res_col[j]\n",
    "        return diff"
   ]
  },
  {
   "cell_type": "code",
   "execution_count": null,
   "id": "7427912a",
   "metadata": {},
   "outputs": [],
   "source": []
  },
  {
   "cell_type": "code",
   "execution_count": null,
   "id": "1f1213ef",
   "metadata": {},
   "outputs": [],
   "source": []
  },
  {
   "cell_type": "code",
   "execution_count": null,
   "id": "660affae",
   "metadata": {},
   "outputs": [],
   "source": []
  },
  {
   "cell_type": "code",
   "execution_count": null,
   "id": "c7cea9f5",
   "metadata": {},
   "outputs": [],
   "source": []
  },
  {
   "cell_type": "code",
   "execution_count": null,
   "id": "8d941d04",
   "metadata": {},
   "outputs": [],
   "source": []
  }
 ],
 "metadata": {
  "kernelspec": {
   "display_name": "Python 3 (ipykernel)",
   "language": "python",
   "name": "python3"
  },
  "language_info": {
   "codemirror_mode": {
    "name": "ipython",
    "version": 3
   },
   "file_extension": ".py",
   "mimetype": "text/x-python",
   "name": "python",
   "nbconvert_exporter": "python",
   "pygments_lexer": "ipython3",
   "version": "3.8.12"
  }
 },
 "nbformat": 4,
 "nbformat_minor": 5
}
