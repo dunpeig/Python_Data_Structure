{
 "cells": [
  {
   "cell_type": "code",
   "execution_count": 1,
   "id": "f4e21052",
   "metadata": {},
   "outputs": [],
   "source": [
    "import collections\n",
    "import heapq"
   ]
  },
  {
   "cell_type": "code",
   "execution_count": null,
   "id": "71b1e161",
   "metadata": {},
   "outputs": [],
   "source": []
  },
  {
   "cell_type": "code",
   "execution_count": null,
   "id": "b53a5001",
   "metadata": {},
   "outputs": [],
   "source": []
  },
  {
   "cell_type": "markdown",
   "id": "4e351f2c",
   "metadata": {},
   "source": [
    "# String"
   ]
  },
  {
   "cell_type": "code",
   "execution_count": 13,
   "id": "833be9aa",
   "metadata": {},
   "outputs": [
    {
     "data": {
      "text/plain": [
       "True"
      ]
     },
     "execution_count": 13,
     "metadata": {},
     "output_type": "execute_result"
    }
   ],
   "source": [
    "# A character c is alphanumeric if one of the following returns True: c.isalpha(), c.isdecimal(), \n",
    "# c.isdigit(), or c.isnumeric().\n",
    "'s'.isalnum()"
   ]
  },
  {
   "cell_type": "code",
   "execution_count": 3,
   "id": "fee3b505",
   "metadata": {},
   "outputs": [
    {
     "data": {
      "text/plain": [
       "True"
      ]
     },
     "execution_count": 3,
     "metadata": {},
     "output_type": "execute_result"
    }
   ],
   "source": [
    "# isalpha means whether is alphabetic \n",
    "'s'.isalpha()"
   ]
  },
  {
   "cell_type": "code",
   "execution_count": 4,
   "id": "1c3bc41a",
   "metadata": {},
   "outputs": [
    {
     "data": {
      "text/plain": [
       "False"
      ]
     },
     "execution_count": 4,
     "metadata": {},
     "output_type": "execute_result"
    }
   ],
   "source": [
    "'1'.isalpha()"
   ]
  },
  {
   "cell_type": "code",
   "execution_count": 5,
   "id": "361fdefb",
   "metadata": {},
   "outputs": [
    {
     "data": {
      "text/plain": [
       "True"
      ]
     },
     "execution_count": 5,
     "metadata": {},
     "output_type": "execute_result"
    }
   ],
   "source": [
    "'1'.isnumeric()"
   ]
  },
  {
   "cell_type": "code",
   "execution_count": 6,
   "id": "ec0f9d2d",
   "metadata": {},
   "outputs": [
    {
     "data": {
      "text/plain": [
       "True"
      ]
     },
     "execution_count": 6,
     "metadata": {},
     "output_type": "execute_result"
    }
   ],
   "source": [
    "'1'.isdecimal()"
   ]
  },
  {
   "cell_type": "code",
   "execution_count": 7,
   "id": "9bc9a973",
   "metadata": {},
   "outputs": [
    {
     "data": {
      "text/plain": [
       "False"
      ]
     },
     "execution_count": 7,
     "metadata": {},
     "output_type": "execute_result"
    }
   ],
   "source": [
    "'a'.isdecimal()"
   ]
  },
  {
   "cell_type": "code",
   "execution_count": 8,
   "id": "67141436",
   "metadata": {},
   "outputs": [
    {
     "data": {
      "text/plain": [
       "False"
      ]
     },
     "execution_count": 8,
     "metadata": {},
     "output_type": "execute_result"
    }
   ],
   "source": [
    "'1.2'.isdecimal()"
   ]
  },
  {
   "cell_type": "code",
   "execution_count": 9,
   "id": "4b1c68a6",
   "metadata": {},
   "outputs": [
    {
     "data": {
      "text/plain": [
       "False"
      ]
     },
     "execution_count": 9,
     "metadata": {},
     "output_type": "execute_result"
    }
   ],
   "source": [
    "'1.2'.isdigit()"
   ]
  },
  {
   "cell_type": "code",
   "execution_count": 10,
   "id": "39914a14",
   "metadata": {},
   "outputs": [
    {
     "data": {
      "text/plain": [
       "True"
      ]
     },
     "execution_count": 10,
     "metadata": {},
     "output_type": "execute_result"
    }
   ],
   "source": [
    "'1000000'.isdigit()"
   ]
  },
  {
   "cell_type": "code",
   "execution_count": 11,
   "id": "aea57c72",
   "metadata": {},
   "outputs": [
    {
     "data": {
      "text/plain": [
       "False"
      ]
     },
     "execution_count": 11,
     "metadata": {},
     "output_type": "execute_result"
    }
   ],
   "source": [
    "':'.isalpha()"
   ]
  },
  {
   "cell_type": "code",
   "execution_count": 12,
   "id": "3a1c836d",
   "metadata": {},
   "outputs": [
    {
     "data": {
      "text/plain": [
       "False"
      ]
     },
     "execution_count": 12,
     "metadata": {},
     "output_type": "execute_result"
    }
   ],
   "source": [
    "'.'.isalpha()"
   ]
  },
  {
   "cell_type": "code",
   "execution_count": 14,
   "id": "270c67ac",
   "metadata": {},
   "outputs": [
    {
     "data": {
      "text/plain": [
       "'f'"
      ]
     },
     "execution_count": 14,
     "metadata": {},
     "output_type": "execute_result"
    }
   ],
   "source": [
    "'F'.lower()"
   ]
  },
  {
   "cell_type": "code",
   "execution_count": 16,
   "id": "947bb234",
   "metadata": {},
   "outputs": [
    {
     "data": {
      "text/plain": [
       "'A'"
      ]
     },
     "execution_count": 16,
     "metadata": {},
     "output_type": "execute_result"
    }
   ],
   "source": [
    "'a'.upper()"
   ]
  },
  {
   "cell_type": "code",
   "execution_count": null,
   "id": "5663054d",
   "metadata": {},
   "outputs": [],
   "source": []
  },
  {
   "cell_type": "code",
   "execution_count": 17,
   "id": "d7032675",
   "metadata": {},
   "outputs": [
    {
     "data": {
      "text/plain": [
       "'abc'"
      ]
     },
     "execution_count": 17,
     "metadata": {},
     "output_type": "execute_result"
    }
   ],
   "source": [
    "stack = ['a','b','c']\n",
    "''.join(stack)"
   ]
  },
  {
   "cell_type": "code",
   "execution_count": 20,
   "id": "d43bd2ac",
   "metadata": {},
   "outputs": [
    {
     "data": {
      "text/plain": [
       "['a', 'b', 'c']"
      ]
     },
     "execution_count": 20,
     "metadata": {},
     "output_type": "execute_result"
    }
   ],
   "source": [
    "string = 'abc'\n",
    "list(string)"
   ]
  },
  {
   "cell_type": "code",
   "execution_count": 21,
   "id": "4e304d17",
   "metadata": {},
   "outputs": [
    {
     "data": {
      "text/plain": [
       "['welcome', 'here']"
      ]
     },
     "execution_count": 21,
     "metadata": {},
     "output_type": "execute_result"
    }
   ],
   "source": [
    "space_string = 'welcome here'\n",
    "space_string.split()"
   ]
  },
  {
   "cell_type": "code",
   "execution_count": 22,
   "id": "3e2f5788",
   "metadata": {},
   "outputs": [
    {
     "data": {
      "text/plain": [
       "['hi', ' how are you']"
      ]
     },
     "execution_count": 22,
     "metadata": {},
     "output_type": "execute_result"
    }
   ],
   "source": [
    "comma_string = 'hi, how are you'\n",
    "comma_string.split(',')"
   ]
  },
  {
   "cell_type": "code",
   "execution_count": 24,
   "id": "7927ceda",
   "metadata": {},
   "outputs": [
    {
     "data": {
      "text/plain": [
       "['apple', 'banana#cherry#orange']"
      ]
     },
     "execution_count": 24,
     "metadata": {},
     "output_type": "execute_result"
    }
   ],
   "source": [
    "txt = \"apple#banana#cherry#orange\"\n",
    "\n",
    "# setting the maxsplit parameter to 1, will return a list with 2 elements!\n",
    "txt.split(\"#\", 1)"
   ]
  },
  {
   "cell_type": "code",
   "execution_count": null,
   "id": "e220a51b",
   "metadata": {},
   "outputs": [],
   "source": []
  },
  {
   "cell_type": "code",
   "execution_count": null,
   "id": "299b0042",
   "metadata": {},
   "outputs": [],
   "source": []
  },
  {
   "cell_type": "code",
   "execution_count": null,
   "id": "b3b5f4d1",
   "metadata": {},
   "outputs": [],
   "source": []
  },
  {
   "cell_type": "code",
   "execution_count": null,
   "id": "41e9608f",
   "metadata": {},
   "outputs": [],
   "source": []
  },
  {
   "cell_type": "markdown",
   "id": "afaa3b87",
   "metadata": {},
   "source": [
    "## list"
   ]
  },
  {
   "cell_type": "code",
   "execution_count": 2,
   "id": "0c139481",
   "metadata": {},
   "outputs": [
    {
     "name": "stdout",
     "output_type": "stream",
     "text": [
      "[[[7, 8, 9], [10, 11, 12]]]\n"
     ]
    }
   ],
   "source": [
    "# Example list of lists\n",
    "list_of_lists = []\n",
    "\n",
    "# Lists to append\n",
    "list_to_append1 = [7, 8, 9]\n",
    "list_to_append2 = [10, 11, 12]\n",
    "\n",
    "# Append a single list containing list_to_append1 and list_to_append2\n",
    "list_of_lists.append([list_to_append1, list_to_append2])\n",
    "\n",
    "# Now, list_of_lists contains a single element which is a list\n",
    "print(list_of_lists)"
   ]
  },
  {
   "cell_type": "code",
   "execution_count": 3,
   "id": "e8d5d109",
   "metadata": {},
   "outputs": [
    {
     "name": "stdout",
     "output_type": "stream",
     "text": [
      "[[1, 2, 3], [4, 5, 6], [[7, 8, 9], [10, 11, 12]]]\n"
     ]
    }
   ],
   "source": [
    "# Example list of lists\n",
    "list_of_lists = [[1, 2, 3], [4, 5, 6]]\n",
    "\n",
    "# Lists to append\n",
    "list_to_append1 = [7, 8, 9]\n",
    "list_to_append2 = [10, 11, 12]\n",
    "\n",
    "# Append a single list containing list_to_append1 and list_to_append2\n",
    "list_of_lists.append([list_to_append1, list_to_append2])\n",
    "\n",
    "# Now, list_of_lists contains a single element which is a list\n",
    "print(list_of_lists)"
   ]
  },
  {
   "cell_type": "code",
   "execution_count": 5,
   "id": "68b2e9da",
   "metadata": {},
   "outputs": [
    {
     "name": "stdout",
     "output_type": "stream",
     "text": [
      "[[7, 8, 9], [10, 11, 12]]\n"
     ]
    }
   ],
   "source": [
    "# Example list of lists\n",
    "list_of_lists = []\n",
    "\n",
    "# Lists to append\n",
    "lists_to_append = [\n",
    "    [7, 8, 9],\n",
    "    [10, 11, 12]\n",
    "]\n",
    "\n",
    "# Iterate over the lists_to_append and append each list to list_of_lists\n",
    "for sublist in lists_to_append:\n",
    "    list_of_lists.append(sublist)\n",
    "\n",
    "# Now, list_of_lists contains the appended lists as separate elements\n",
    "print(list_of_lists)"
   ]
  },
  {
   "cell_type": "code",
   "execution_count": null,
   "id": "b2e92175",
   "metadata": {},
   "outputs": [],
   "source": []
  },
  {
   "cell_type": "code",
   "execution_count": null,
   "id": "f9c7b2b5",
   "metadata": {},
   "outputs": [],
   "source": []
  },
  {
   "cell_type": "code",
   "execution_count": null,
   "id": "21f58585",
   "metadata": {},
   "outputs": [],
   "source": []
  },
  {
   "cell_type": "markdown",
   "id": "6c1d006f",
   "metadata": {},
   "source": [
    "# Heapq : Heap queue algorithm\n",
    "## Heaps are binary trees for which every parent node has a value less than or equal to any of its children. \n"
   ]
  },
  {
   "cell_type": "code",
   "execution_count": 2,
   "id": "21846152",
   "metadata": {},
   "outputs": [],
   "source": [
    "from heapq import *\n"
   ]
  },
  {
   "cell_type": "code",
   "execution_count": 3,
   "id": "fe65ce82",
   "metadata": {},
   "outputs": [],
   "source": [
    "# create an empty list and push element, a tuple into it and form a heapq\n",
    "hp = []\n",
    "heappush(hp,(0.1, 0,0))"
   ]
  },
  {
   "cell_type": "code",
   "execution_count": 4,
   "id": "40f3895d",
   "metadata": {},
   "outputs": [
    {
     "name": "stdout",
     "output_type": "stream",
     "text": [
      "[(0.1, 0, 0)]\n"
     ]
    }
   ],
   "source": [
    "print(hp)"
   ]
  },
  {
   "cell_type": "code",
   "execution_count": 5,
   "id": "70c38d7d",
   "metadata": {},
   "outputs": [],
   "source": [
    "# push another element, note the order \n",
    "heappush(hp,(0.5, 1,0))"
   ]
  },
  {
   "cell_type": "code",
   "execution_count": 6,
   "id": "13a874e4",
   "metadata": {},
   "outputs": [
    {
     "name": "stdout",
     "output_type": "stream",
     "text": [
      "[(0.1, 0, 0), (0.5, 1, 0)]\n"
     ]
    }
   ],
   "source": [
    "print(hp)"
   ]
  },
  {
   "cell_type": "code",
   "execution_count": 7,
   "id": "5c097bc2",
   "metadata": {},
   "outputs": [
    {
     "data": {
      "text/plain": [
       "(0.1, 0, 0)"
      ]
     },
     "execution_count": 7,
     "metadata": {},
     "output_type": "execute_result"
    }
   ],
   "source": [
    "# the 0 index element is always the smallest one \n",
    "hp[0]"
   ]
  },
  {
   "cell_type": "code",
   "execution_count": 8,
   "id": "6209cd49",
   "metadata": {},
   "outputs": [
    {
     "data": {
      "text/plain": [
       "0.1"
      ]
     },
     "execution_count": 8,
     "metadata": {},
     "output_type": "execute_result"
    }
   ],
   "source": [
    "hp[0][0]"
   ]
  },
  {
   "cell_type": "code",
   "execution_count": 9,
   "id": "dd76e758",
   "metadata": {},
   "outputs": [
    {
     "name": "stdout",
     "output_type": "stream",
     "text": [
      "(0.1, 0, 0)\n"
     ]
    }
   ],
   "source": [
    "# heappop would pop out the smallest element\n",
    "print(heappop(hp))"
   ]
  },
  {
   "cell_type": "code",
   "execution_count": 10,
   "id": "88b7947a",
   "metadata": {},
   "outputs": [
    {
     "name": "stdout",
     "output_type": "stream",
     "text": [
      "[(0.5, 1, 0)]\n"
     ]
    }
   ],
   "source": [
    "print(hp)"
   ]
  },
  {
   "cell_type": "code",
   "execution_count": 11,
   "id": "506133bd",
   "metadata": {},
   "outputs": [
    {
     "name": "stdout",
     "output_type": "stream",
     "text": [
      "(0.2, 2, 0)\n"
     ]
    }
   ],
   "source": [
    "# heappushpop would push the element in first then pop out the smallest one\n",
    "print(heappushpop(hp, (0.2,2,0)))"
   ]
  },
  {
   "cell_type": "code",
   "execution_count": 12,
   "id": "c6608128",
   "metadata": {},
   "outputs": [],
   "source": [
    "x = [1,2,3]"
   ]
  },
  {
   "cell_type": "code",
   "execution_count": 13,
   "id": "08fb1145",
   "metadata": {},
   "outputs": [],
   "source": [
    "# heapify would heapq the iterable x \n",
    "heapify(x)"
   ]
  },
  {
   "cell_type": "code",
   "execution_count": 14,
   "id": "9dc36a3f",
   "metadata": {},
   "outputs": [
    {
     "name": "stdout",
     "output_type": "stream",
     "text": [
      "[1, 2, 3]\n"
     ]
    }
   ],
   "source": [
    "print(x)"
   ]
  },
  {
   "cell_type": "code",
   "execution_count": 15,
   "id": "4d7d6f90",
   "metadata": {},
   "outputs": [
    {
     "data": {
      "text/plain": [
       "1"
      ]
     },
     "execution_count": 15,
     "metadata": {},
     "output_type": "execute_result"
    }
   ],
   "source": [
    "x[0]"
   ]
  },
  {
   "cell_type": "code",
   "execution_count": 16,
   "id": "24f2ef7e",
   "metadata": {},
   "outputs": [
    {
     "data": {
      "text/plain": [
       "[3, 2]"
      ]
     },
     "execution_count": 16,
     "metadata": {},
     "output_type": "execute_result"
    }
   ],
   "source": [
    "# return the n largest elements \n",
    "nlargest(2,x)"
   ]
  },
  {
   "cell_type": "code",
   "execution_count": 17,
   "id": "36fd7328",
   "metadata": {},
   "outputs": [
    {
     "data": {
      "text/plain": [
       "[1, 2]"
      ]
     },
     "execution_count": 17,
     "metadata": {},
     "output_type": "execute_result"
    }
   ],
   "source": [
    "# return the n smallest elements \n",
    "nsmallest(2,x)"
   ]
  },
  {
   "cell_type": "code",
   "execution_count": 18,
   "id": "ab67feed",
   "metadata": {},
   "outputs": [
    {
     "data": {
      "text/plain": [
       "1"
      ]
     },
     "execution_count": 18,
     "metadata": {},
     "output_type": "execute_result"
    }
   ],
   "source": [
    "# pop and return the smallest and push in the new element\n",
    "heapreplace(x, 4)"
   ]
  },
  {
   "cell_type": "code",
   "execution_count": null,
   "id": "315a5c97",
   "metadata": {},
   "outputs": [],
   "source": []
  },
  {
   "cell_type": "markdown",
   "id": "789cb00e",
   "metadata": {},
   "source": [
    "# deque object \n",
    "## it is just the Queue data structure"
   ]
  },
  {
   "cell_type": "code",
   "execution_count": 6,
   "id": "13e865c9",
   "metadata": {},
   "outputs": [],
   "source": [
    "from collections import deque "
   ]
  },
  {
   "cell_type": "code",
   "execution_count": 13,
   "id": "96ce7170",
   "metadata": {},
   "outputs": [],
   "source": [
    "d = deque()"
   ]
  },
  {
   "cell_type": "code",
   "execution_count": 14,
   "id": "7649d5ae",
   "metadata": {},
   "outputs": [],
   "source": [
    "d.append([1])\n",
    "d.append([2])\n",
    "d.append([3])"
   ]
  },
  {
   "cell_type": "code",
   "execution_count": 15,
   "id": "db9f63d1",
   "metadata": {},
   "outputs": [
    {
     "data": {
      "text/plain": [
       "[1]"
      ]
     },
     "execution_count": 15,
     "metadata": {},
     "output_type": "execute_result"
    }
   ],
   "source": [
    "d.popleft()"
   ]
  },
  {
   "cell_type": "code",
   "execution_count": 16,
   "id": "0888f3bd",
   "metadata": {},
   "outputs": [
    {
     "data": {
      "text/plain": [
       "deque([[2], [3]])"
      ]
     },
     "execution_count": 16,
     "metadata": {},
     "output_type": "execute_result"
    }
   ],
   "source": [
    "d"
   ]
  },
  {
   "cell_type": "code",
   "execution_count": 23,
   "id": "ee30345c",
   "metadata": {},
   "outputs": [],
   "source": [
    "two_queue = deque([(1,2)])"
   ]
  },
  {
   "cell_type": "code",
   "execution_count": 24,
   "id": "6cb66c25",
   "metadata": {},
   "outputs": [],
   "source": [
    "a,b = two_queue.popleft()"
   ]
  },
  {
   "cell_type": "code",
   "execution_count": 25,
   "id": "b1ba6bb4",
   "metadata": {},
   "outputs": [
    {
     "data": {
      "text/plain": [
       "1"
      ]
     },
     "execution_count": 25,
     "metadata": {},
     "output_type": "execute_result"
    }
   ],
   "source": [
    "a"
   ]
  },
  {
   "cell_type": "code",
   "execution_count": null,
   "id": "3ff01882",
   "metadata": {},
   "outputs": [],
   "source": []
  },
  {
   "cell_type": "code",
   "execution_count": null,
   "id": "4f4493d1",
   "metadata": {},
   "outputs": [],
   "source": []
  },
  {
   "cell_type": "markdown",
   "id": "f645e0e5",
   "metadata": {},
   "source": [
    "## Stack, FILO"
   ]
  },
  {
   "cell_type": "code",
   "execution_count": 1,
   "id": "2327c254",
   "metadata": {},
   "outputs": [],
   "source": [
    "class Stack:\n",
    "    def __init__(self):\n",
    "        self.items = []\n",
    "\n",
    "    def push(self, item):\n",
    "        self.items.append(item)\n",
    "\n",
    "    def pop(self):\n",
    "        if not self.is_empty():\n",
    "            return self.items.pop()\n",
    "        else:\n",
    "            raise IndexError(\"pop from an empty stack\")\n",
    "\n",
    "    def is_empty(self):\n",
    "        return len(self.items) == 0\n",
    "\n",
    "    def size(self):\n",
    "        return len(self.items)"
   ]
  },
  {
   "cell_type": "code",
   "execution_count": 2,
   "id": "8befb03d",
   "metadata": {},
   "outputs": [
    {
     "name": "stdout",
     "output_type": "stream",
     "text": [
      "3\n",
      "2\n",
      "False\n",
      "1\n"
     ]
    }
   ],
   "source": [
    "# Create a stack\n",
    "my_stack = Stack()\n",
    "\n",
    "# Push elements onto the stack\n",
    "my_stack.push(1)\n",
    "my_stack.push(2)\n",
    "my_stack.push(3)\n",
    "\n",
    "# Pop elements from the stack\n",
    "print(my_stack.pop())  # Output: 3\n",
    "print(my_stack.pop())  # Output: 2\n",
    "\n",
    "# Check if the stack is empty\n",
    "print(my_stack.is_empty())  # Output: False\n",
    "\n",
    "# Get the size of the stack\n",
    "print(my_stack.size())  # Output: 1"
   ]
  },
  {
   "cell_type": "code",
   "execution_count": null,
   "id": "49ce5734",
   "metadata": {},
   "outputs": [],
   "source": []
  },
  {
   "cell_type": "code",
   "execution_count": null,
   "id": "308cdf67",
   "metadata": {},
   "outputs": [],
   "source": []
  },
  {
   "cell_type": "code",
   "execution_count": null,
   "id": "aa900a36",
   "metadata": {},
   "outputs": [],
   "source": []
  },
  {
   "cell_type": "code",
   "execution_count": null,
   "id": "f9167441",
   "metadata": {},
   "outputs": [],
   "source": []
  },
  {
   "cell_type": "markdown",
   "id": "653e1202",
   "metadata": {},
   "source": [
    "# Leetcode Minstack data structure implementation"
   ]
  },
  {
   "cell_type": "code",
   "execution_count": 21,
   "id": "4d1e4edb",
   "metadata": {},
   "outputs": [],
   "source": [
    "class MinStack:\n",
    "\n",
    "    def __init__(self):\n",
    "        self.stack = []\n",
    "\n",
    "    def push(self, x: int) -> None:\n",
    "        \n",
    "        # If the stack is empty, then the min value\n",
    "        # must just be the first value we add\n",
    "        if not self.stack:\n",
    "            self.stack.append((x, x))\n",
    "            return\n",
    "\n",
    "        current_min = self.stack[-1][1]\n",
    "        # always store the minimum value when push the element into the stack\n",
    "        self.stack.append((x, min(x, current_min)))\n",
    "        \n",
    "        \n",
    "    def pop(self) -> None:\n",
    "        self.stack.pop()\n",
    "        \n",
    "\n",
    "    def top(self) -> int:\n",
    "        return self.stack[-1][0]\n",
    "    \n",
    "    def getMin(self) -> int:\n",
    "        return self.stack[-1][1]\n",
    "        \n"
   ]
  },
  {
   "cell_type": "code",
   "execution_count": 22,
   "id": "c4801f0b",
   "metadata": {},
   "outputs": [
    {
     "data": {
      "text/plain": [
       "3"
      ]
     },
     "execution_count": 22,
     "metadata": {},
     "output_type": "execute_result"
    }
   ],
   "source": [
    "min_stack = MinStack()\n",
    "min_stack.push(1)\n",
    "min_stack.push(3)\n",
    "min_stack.top()"
   ]
  },
  {
   "cell_type": "code",
   "execution_count": null,
   "id": "057c1fc5",
   "metadata": {},
   "outputs": [],
   "source": []
  },
  {
   "cell_type": "markdown",
   "id": "754b7949",
   "metadata": {},
   "source": [
    "## Deque "
   ]
  },
  {
   "cell_type": "code",
   "execution_count": 23,
   "id": "a5936675",
   "metadata": {},
   "outputs": [],
   "source": [
    "from collections import deque\n",
    "\n",
    "# Creating an empty deque\n",
    "my_deque = deque()\n",
    "\n",
    "# Creating a deque from an iterable (e.g., list)\n",
    "my_deque_from_list = deque([1, 2, 3, 4, 5])"
   ]
  },
  {
   "cell_type": "code",
   "execution_count": 24,
   "id": "59c6531b",
   "metadata": {},
   "outputs": [],
   "source": [
    "# Append to the right\n",
    "my_deque.append(6)\n",
    "\n",
    "# Append to the left\n",
    "my_deque.append(0)\n",
    "\n",
    "# Pop from the right\n",
    "right_element = my_deque.pop()\n",
    "\n",
    "# Pop from the left\n",
    "left_element = my_deque.popleft()"
   ]
  },
  {
   "cell_type": "code",
   "execution_count": null,
   "id": "29dd66cf",
   "metadata": {},
   "outputs": [],
   "source": []
  },
  {
   "cell_type": "code",
   "execution_count": 25,
   "id": "3a3b4c44",
   "metadata": {},
   "outputs": [
    {
     "data": {
      "text/plain": [
       "0"
      ]
     },
     "execution_count": 25,
     "metadata": {},
     "output_type": "execute_result"
    }
   ],
   "source": [
    "right_element"
   ]
  },
  {
   "cell_type": "code",
   "execution_count": null,
   "id": "79c8cd8f",
   "metadata": {},
   "outputs": [],
   "source": [
    "# Access elements using indexing\n",
    "first_element = my_deque[0]\n",
    "last_element = my_deque[-1]"
   ]
  },
  {
   "cell_type": "code",
   "execution_count": null,
   "id": "55713bc1",
   "metadata": {},
   "outputs": [],
   "source": [
    "# Rotate to the right (positive argument)\n",
    "my_deque.rotate(1)\n",
    "\n",
    "# Rotate to the left (negative argument)\n",
    "my_deque.rotate(-1)"
   ]
  },
  {
   "cell_type": "code",
   "execution_count": null,
   "id": "b625aaa3",
   "metadata": {},
   "outputs": [],
   "source": [
    "# Get the length of the deque\n",
    "deque_length = len(my_deque)"
   ]
  },
  {
   "cell_type": "code",
   "execution_count": null,
   "id": "35ede1e0",
   "metadata": {},
   "outputs": [],
   "source": [
    "# Clear all elements from the deque\n",
    "my_deque.clear()"
   ]
  },
  {
   "cell_type": "code",
   "execution_count": null,
   "id": "034c5544",
   "metadata": {},
   "outputs": [],
   "source": [
    "# Extend from the right\n",
    "my_deque.extend([7, 8, 9])\n",
    "\n",
    "# Extend from the left\n",
    "my_deque.extendleft([-1, -2, -3])"
   ]
  },
  {
   "cell_type": "code",
   "execution_count": null,
   "id": "1b1ceb0f",
   "metadata": {},
   "outputs": [],
   "source": []
  },
  {
   "cell_type": "markdown",
   "id": "639b7fe2",
   "metadata": {},
   "source": [
    "## circular Deque"
   ]
  },
  {
   "cell_type": "code",
   "execution_count": 21,
   "id": "c6bb0174",
   "metadata": {},
   "outputs": [],
   "source": [
    "class circular_deque:\n",
    "    def __init__(self, size: int):\n",
    "        self.size = size\n",
    "        self.queue = [0] * self.size\n",
    "        self.head = 0\n",
    "        # number of elements seen so far\n",
    "\n",
    "    def next(self, val: int) -> float:\n",
    "        self.head = (self.head + 1) % self.size\n",
    "        self.queue[self.head] = val\n",
    "        return self.queue"
   ]
  },
  {
   "cell_type": "code",
   "execution_count": 22,
   "id": "499643f9",
   "metadata": {},
   "outputs": [],
   "source": [
    "cd = circular_deque(2)"
   ]
  },
  {
   "cell_type": "code",
   "execution_count": 23,
   "id": "70d7c0a7",
   "metadata": {},
   "outputs": [
    {
     "name": "stdout",
     "output_type": "stream",
     "text": [
      "[0, 3]\n"
     ]
    }
   ],
   "source": [
    "print(cd.next(3))"
   ]
  },
  {
   "cell_type": "code",
   "execution_count": 24,
   "id": "a68513c3",
   "metadata": {},
   "outputs": [
    {
     "name": "stdout",
     "output_type": "stream",
     "text": [
      "[4, 3]\n"
     ]
    }
   ],
   "source": [
    "print(cd.next(4))"
   ]
  },
  {
   "cell_type": "code",
   "execution_count": 25,
   "id": "f255b75e",
   "metadata": {},
   "outputs": [
    {
     "data": {
      "text/plain": [
       "[4, 5]"
      ]
     },
     "execution_count": 25,
     "metadata": {},
     "output_type": "execute_result"
    }
   ],
   "source": [
    "cd.next(5)"
   ]
  },
  {
   "cell_type": "code",
   "execution_count": 26,
   "id": "054568d4",
   "metadata": {},
   "outputs": [
    {
     "data": {
      "text/plain": [
       "[6, 5]"
      ]
     },
     "execution_count": 26,
     "metadata": {},
     "output_type": "execute_result"
    }
   ],
   "source": [
    "cd.next(6)"
   ]
  },
  {
   "cell_type": "code",
   "execution_count": null,
   "id": "23fd261c",
   "metadata": {},
   "outputs": [],
   "source": []
  },
  {
   "cell_type": "markdown",
   "id": "8a8f5dd5",
   "metadata": {},
   "source": [
    "## Default Dictionary"
   ]
  },
  {
   "cell_type": "code",
   "execution_count": 6,
   "id": "88600fd1",
   "metadata": {},
   "outputs": [],
   "source": [
    "from collections import defaultdict"
   ]
  },
  {
   "cell_type": "code",
   "execution_count": 7,
   "id": "80e436f5",
   "metadata": {},
   "outputs": [
    {
     "data": {
      "text/plain": [
       "[('i', 4), ('m', 1), ('p', 2), ('s', 4)]"
      ]
     },
     "execution_count": 7,
     "metadata": {},
     "output_type": "execute_result"
    }
   ],
   "source": [
    "s = 'mississippi'\n",
    "d = defaultdict(int)\n",
    "for k in s:\n",
    "    d[k] += 1\n",
    "\n",
    "sorted(d.items())"
   ]
  },
  {
   "cell_type": "code",
   "execution_count": null,
   "id": "0c984a3e",
   "metadata": {},
   "outputs": [],
   "source": []
  },
  {
   "cell_type": "code",
   "execution_count": 9,
   "id": "e9bf82e4",
   "metadata": {},
   "outputs": [
    {
     "name": "stdout",
     "output_type": "stream",
     "text": [
      "defaultdict(<class 'int'>, {'apple': 1, 'banana': 3, 'grape': 4, 'orange': 2})\n"
     ]
    }
   ],
   "source": [
    "# Create a defaultdict with int as the default factory\n",
    "my_defaultdict = defaultdict(int)\n",
    "\n",
    "# Populate the defaultdict\n",
    "my_defaultdict['banana'] = 3\n",
    "my_defaultdict['apple'] = 1\n",
    "my_defaultdict['orange'] = 2\n",
    "my_defaultdict['grape'] = 4\n",
    "\n",
    "# Sort the defaultdict by keys using lambda\n",
    "sorted_defaultdict = defaultdict(int, sorted(my_defaultdict.items(), key=lambda x: x[0]))\n",
    "\n",
    "# Print the sorted defaultdict\n",
    "print(sorted_defaultdict)"
   ]
  },
  {
   "cell_type": "code",
   "execution_count": 10,
   "id": "e27cf7ca",
   "metadata": {},
   "outputs": [
    {
     "name": "stdout",
     "output_type": "stream",
     "text": [
      "defaultdict(<class 'int'>, {'apple': 1, 'orange': 2, 'banana': 3, 'grape': 4})\n"
     ]
    }
   ],
   "source": [
    "# Sort the defaultdict by keys using lambda\n",
    "sorted_defaultdict = defaultdict(int, sorted(my_defaultdict.items(), key=lambda x: x[1]))\n",
    "\n",
    "# Print the sorted defaultdict\n",
    "print(sorted_defaultdict)"
   ]
  },
  {
   "cell_type": "code",
   "execution_count": 12,
   "id": "3706e52f",
   "metadata": {},
   "outputs": [],
   "source": [
    "l = [my_defaultdict[x] for x in sorted(my_defaultdict.keys())]"
   ]
  },
  {
   "cell_type": "code",
   "execution_count": 13,
   "id": "968e90d3",
   "metadata": {},
   "outputs": [
    {
     "name": "stdout",
     "output_type": "stream",
     "text": [
      "[1, 3, 4, 2]\n"
     ]
    }
   ],
   "source": [
    "print(l)"
   ]
  },
  {
   "cell_type": "code",
   "execution_count": 17,
   "id": "5a518135",
   "metadata": {},
   "outputs": [
    {
     "name": "stdout",
     "output_type": "stream",
     "text": [
      "{'apple': 1, 'banana': 3, 'grape': 4, 'orange': 2}\n"
     ]
    }
   ],
   "source": [
    "my_dict = {'banana': 3, 'apple': 1, 'orange': 2, 'grape': 4}\n",
    "\n",
    "# Sort the dictionary by keys using lambda\n",
    "sorted_dict = dict(sorted(my_dict.items(), key=lambda x: x[0]))\n",
    "\n",
    "# Print the sorted dictionary\n",
    "print(sorted_dict)"
   ]
  },
  {
   "cell_type": "code",
   "execution_count": 18,
   "id": "51fb8c46",
   "metadata": {},
   "outputs": [
    {
     "name": "stdout",
     "output_type": "stream",
     "text": [
      "{'apple': 1, 'orange': 2, 'banana': 3, 'grape': 4}\n"
     ]
    }
   ],
   "source": [
    "# Sort the dictionary by keys using lambda\n",
    "sorted_dict2 = dict(sorted(my_dict.items(), key=lambda x: x[1]))\n",
    "\n",
    "# Print the sorted dictionary\n",
    "print(sorted_dict2)"
   ]
  },
  {
   "cell_type": "code",
   "execution_count": null,
   "id": "c68a3c75",
   "metadata": {},
   "outputs": [],
   "source": []
  },
  {
   "cell_type": "code",
   "execution_count": 20,
   "id": "4a8d6994",
   "metadata": {},
   "outputs": [
    {
     "name": "stdout",
     "output_type": "stream",
     "text": [
      "{'apple': 1, 'banana': 3, 'grape': 4, 'orange': 2}\n"
     ]
    }
   ],
   "source": [
    "my_dict = {'banana': 3, 'apple': 1, 'orange': 2, 'grape': 4}\n",
    "\n",
    "# Sort the dictionary by values using lambda\n",
    "sorted_dict2 = dict(sorted(my_dict.items(), key=lambda x: x[0]))\n",
    "\n",
    "# Print the sorted dictionary\n",
    "print(sorted_dict2)"
   ]
  },
  {
   "cell_type": "code",
   "execution_count": 21,
   "id": "dd7adc80",
   "metadata": {},
   "outputs": [
    {
     "name": "stdout",
     "output_type": "stream",
     "text": [
      "{'apple': 1, 'orange': 2, 'banana': 3, 'grape': 4}\n"
     ]
    }
   ],
   "source": [
    "# Sort the dictionary by values using lambda\n",
    "sorted_dict3 = dict(sorted(my_dict.items(), key=lambda x: x[1]))\n",
    "\n",
    "# Print the sorted dictionary\n",
    "print(sorted_dict3)"
   ]
  },
  {
   "cell_type": "code",
   "execution_count": null,
   "id": "4cd9a699",
   "metadata": {},
   "outputs": [],
   "source": []
  },
  {
   "cell_type": "code",
   "execution_count": 1,
   "id": "1c2a32a5",
   "metadata": {},
   "outputs": [
    {
     "name": "stdout",
     "output_type": "stream",
     "text": [
      "{'key1': [1, 2], 'key2': ['a', 'b']}\n"
     ]
    }
   ],
   "source": [
    "# Initialize an empty dictionary\n",
    "my_dict = {}\n",
    "\n",
    "# Example usage\n",
    "my_dict.setdefault('key1', []).append(1)\n",
    "my_dict.setdefault('key2', []).append('a')\n",
    "my_dict.setdefault('key1', []).append(2)\n",
    "my_dict.setdefault('key2', []).append('b')\n",
    "\n",
    "print(my_dict)"
   ]
  },
  {
   "cell_type": "code",
   "execution_count": 2,
   "id": "deef062b",
   "metadata": {},
   "outputs": [
    {
     "name": "stdout",
     "output_type": "stream",
     "text": [
      "{'key1': [1, 2], 'key2': ['a', 'b']}\n"
     ]
    }
   ],
   "source": [
    "# Initialize an empty dictionary\n",
    "my_dict = {}\n",
    "\n",
    "# Function to add or append elements to a dictionary key\n",
    "def add_or_append(dictionary, key, element):\n",
    "    if key in dictionary:\n",
    "        dictionary[key].append(element)\n",
    "    else:\n",
    "        dictionary[key] = [element]\n",
    "\n",
    "# Example usage\n",
    "add_or_append(my_dict, 'key1', 1)\n",
    "add_or_append(my_dict, 'key2', 'a')\n",
    "add_or_append(my_dict, 'key1', 2)\n",
    "add_or_append(my_dict, 'key2', 'b')\n",
    "\n",
    "print(my_dict)"
   ]
  },
  {
   "cell_type": "code",
   "execution_count": null,
   "id": "a6286ffa",
   "metadata": {},
   "outputs": [],
   "source": []
  },
  {
   "cell_type": "code",
   "execution_count": null,
   "id": "d38c1656",
   "metadata": {},
   "outputs": [],
   "source": []
  },
  {
   "cell_type": "markdown",
   "id": "51d191ed",
   "metadata": {},
   "source": [
    "## Very useful list comprehension and matrix inversion "
   ]
  },
  {
   "cell_type": "code",
   "execution_count": 96,
   "id": "03fe4679",
   "metadata": {},
   "outputs": [],
   "source": [
    "from typing import List"
   ]
  },
  {
   "cell_type": "code",
   "execution_count": 97,
   "id": "6f80c43a",
   "metadata": {},
   "outputs": [],
   "source": [
    "# Leetcode 2482\n",
    "class Solution:\n",
    "    def onesMinusZeros(self, grid: List[List[int]]) -> List[List[int]]:\n",
    "        m, n = len(grid), len(grid[0])\n",
    "        diff = [[0]*n for _ in range(m)]\n",
    "        def summation(nums):\n",
    "            return sum(nums)*2 - len(nums)\n",
    "        res_row = list(map(summation, grid))\n",
    "        res_col = list(map(summation, zip(*grid)))\n",
    "        for i, j in product(range(m), range(n)):\n",
    "            diff[i][j] = res_row[i] + res_col[j]\n",
    "        return diff"
   ]
  },
  {
   "cell_type": "code",
   "execution_count": null,
   "id": "7427912a",
   "metadata": {},
   "outputs": [],
   "source": []
  },
  {
   "cell_type": "code",
   "execution_count": null,
   "id": "34fc1af6",
   "metadata": {},
   "outputs": [],
   "source": []
  },
  {
   "cell_type": "code",
   "execution_count": null,
   "id": "48114f29",
   "metadata": {},
   "outputs": [],
   "source": [
    "## for else "
   ]
  },
  {
   "cell_type": "code",
   "execution_count": 40,
   "id": "65cb2f45",
   "metadata": {},
   "outputs": [],
   "source": [
    "numList = [5,4,3]"
   ]
  },
  {
   "cell_type": "code",
   "execution_count": 41,
   "id": "4ce3dbf7",
   "metadata": {},
   "outputs": [],
   "source": [
    "def find_asc(numList):\n",
    "    for i in range(len(numList)-1):\n",
    "        if numList[i] < numList[i+1]:\n",
    "            print(i)\n",
    "            break\n",
    "    else:\n",
    "        # If the loop completes without encountering a break,\n",
    "        # the following block will be executed.\n",
    "        print(numList)"
   ]
  },
  {
   "cell_type": "code",
   "execution_count": 42,
   "id": "2cab592b",
   "metadata": {},
   "outputs": [
    {
     "name": "stdout",
     "output_type": "stream",
     "text": [
      "[5, 4, 3]\n"
     ]
    }
   ],
   "source": [
    "find_asc(numList)"
   ]
  },
  {
   "cell_type": "code",
   "execution_count": 43,
   "id": "ac839c85",
   "metadata": {},
   "outputs": [],
   "source": [
    "numList = [5,2,3]"
   ]
  },
  {
   "cell_type": "code",
   "execution_count": 44,
   "id": "5a3fa40d",
   "metadata": {},
   "outputs": [
    {
     "name": "stdout",
     "output_type": "stream",
     "text": [
      "1\n"
     ]
    }
   ],
   "source": [
    "find_asc(numList)"
   ]
  },
  {
   "cell_type": "code",
   "execution_count": null,
   "id": "f5fe543b",
   "metadata": {},
   "outputs": [],
   "source": []
  },
  {
   "cell_type": "code",
   "execution_count": null,
   "id": "f81eb664",
   "metadata": {},
   "outputs": [],
   "source": []
  },
  {
   "cell_type": "markdown",
   "id": "974f3ee3",
   "metadata": {},
   "source": [
    "## Node "
   ]
  },
  {
   "cell_type": "code",
   "execution_count": 2,
   "id": "660affae",
   "metadata": {},
   "outputs": [
    {
     "name": "stdout",
     "output_type": "stream",
     "text": [
      "1\n",
      "2\n"
     ]
    }
   ],
   "source": [
    "class Node:\n",
    "    def __init__(self, data):\n",
    "        self.data = data\n",
    "        self.next = None  # For a linked list, points to the next node\n",
    "        # Additional attributes or pointers can be added for specific use cases\n",
    "\n",
    "# Example usage for a linked list node\n",
    "node1 = Node(1)\n",
    "node2 = Node(2)\n",
    "node3 = Node(3)\n",
    "\n",
    "# Link the nodes in a linked list\n",
    "node1.next = node2\n",
    "node2.next = node3\n",
    "\n",
    "# Accessing node data and next pointer\n",
    "print(node1.data)  # Output: 1\n",
    "print(node1.next.data)  # Output: 2"
   ]
  },
  {
   "cell_type": "code",
   "execution_count": 7,
   "id": "8d941d04",
   "metadata": {},
   "outputs": [
    {
     "name": "stdout",
     "output_type": "stream",
     "text": [
      "4\n",
      "None\n"
     ]
    }
   ],
   "source": [
    "class Node:\n",
    "    def __init__(self, val=None, next=None):\n",
    "        self.val = val\n",
    "        self.next = next\n",
    "node4 = Node(4, None)\n",
    "print(node4.val)\n",
    "print(node4.next)"
   ]
  },
  {
   "cell_type": "code",
   "execution_count": null,
   "id": "c40c7c41",
   "metadata": {},
   "outputs": [],
   "source": []
  },
  {
   "cell_type": "markdown",
   "id": "aa96710a",
   "metadata": {},
   "source": [
    "## Union Find "
   ]
  },
  {
   "cell_type": "code",
   "execution_count": 45,
   "id": "59c39284",
   "metadata": {},
   "outputs": [
    {
     "name": "stdout",
     "output_type": "stream",
     "text": [
      "3\n"
     ]
    }
   ],
   "source": [
    "class UnionFind:\n",
    "    def __init__(self, size):\n",
    "        self.parent = [i for i in range(size)]\n",
    "        self.rank = [0] * size\n",
    "\n",
    "    def find(self, x):\n",
    "        if self.parent[x] != x:\n",
    "            self.parent[x] = self.find(self.parent[x])  # Path compression\n",
    "        return self.parent[x]\n",
    "\n",
    "    def union(self, x, y):\n",
    "        root_x = self.find(x)\n",
    "        root_y = self.find(y)\n",
    "\n",
    "        if root_x != root_y:\n",
    "            if self.rank[root_x] < self.rank[root_y]:\n",
    "                self.parent[root_x] = root_y\n",
    "            elif self.rank[root_x] > self.rank[root_y]:\n",
    "                self.parent[root_y] = root_x\n",
    "            else:\n",
    "                self.parent[root_x] = root_y\n",
    "                self.rank[root_y] += 1\n",
    "\n",
    "# Example usage:\n",
    "# Creating a Union-Find object with 5 elements\n",
    "uf = UnionFind(5)\n",
    "\n",
    "# Performing union operations\n",
    "uf.union(0, 1)\n",
    "uf.union(2, 3)\n",
    "uf.union(1, 3)\n",
    "\n",
    "# Finding the root of an element\n",
    "print(uf.find(3))  # Output: 0 or 1 (depending on the specific union operations)\n"
   ]
  },
  {
   "cell_type": "code",
   "execution_count": null,
   "id": "1e25af01",
   "metadata": {},
   "outputs": [],
   "source": []
  },
  {
   "cell_type": "code",
   "execution_count": null,
   "id": "4707aa2c",
   "metadata": {},
   "outputs": [],
   "source": []
  },
  {
   "cell_type": "code",
   "execution_count": null,
   "id": "29e0a112",
   "metadata": {},
   "outputs": [],
   "source": []
  },
  {
   "cell_type": "markdown",
   "id": "f3c40671",
   "metadata": {},
   "source": [
    "# Bit Manipulation"
   ]
  },
  {
   "cell_type": "code",
   "execution_count": 25,
   "id": "1d62f979",
   "metadata": {},
   "outputs": [
    {
     "name": "stdout",
     "output_type": "stream",
     "text": [
      "1\n"
     ]
    }
   ],
   "source": [
    "a = 5 # 101\n",
    "b = 3 # 011\n",
    "print(a&b) # 001"
   ]
  },
  {
   "cell_type": "code",
   "execution_count": 26,
   "id": "640d9d4f",
   "metadata": {},
   "outputs": [
    {
     "name": "stdout",
     "output_type": "stream",
     "text": [
      "7\n"
     ]
    }
   ],
   "source": [
    "a = 5 # 101\n",
    "b = 3 # 011\n",
    "print(a|b) # 111"
   ]
  },
  {
   "cell_type": "code",
   "execution_count": 27,
   "id": "3d377cf6",
   "metadata": {},
   "outputs": [
    {
     "name": "stdout",
     "output_type": "stream",
     "text": [
      "6\n"
     ]
    }
   ],
   "source": [
    "a = 5 # 101\n",
    "b = 3 # 011\n",
    "print(a^b) # 110"
   ]
  },
  {
   "cell_type": "code",
   "execution_count": 28,
   "id": "e50cd43b",
   "metadata": {},
   "outputs": [
    {
     "name": "stdout",
     "output_type": "stream",
     "text": [
      "-6\n"
     ]
    }
   ],
   "source": [
    "a = 5 # 101\n",
    "print(~a) # in two's complement, 6 is 0110 when inverst all bits, that is 1001 and add 1 to the least bit is 1010\n",
    "# so not a is # 010"
   ]
  },
  {
   "cell_type": "code",
   "execution_count": 29,
   "id": "90154025",
   "metadata": {},
   "outputs": [
    {
     "name": "stdout",
     "output_type": "stream",
     "text": [
      "10\n"
     ]
    }
   ],
   "source": [
    "a = 5 # 101\n",
    "print(a<<1) # 1010"
   ]
  },
  {
   "cell_type": "code",
   "execution_count": 30,
   "id": "1644e24b",
   "metadata": {},
   "outputs": [
    {
     "name": "stdout",
     "output_type": "stream",
     "text": [
      "2\n"
     ]
    }
   ],
   "source": [
    "a = 5 # 101\n",
    "print(a>>1) # 10"
   ]
  },
  {
   "cell_type": "code",
   "execution_count": 32,
   "id": "b2b07082",
   "metadata": {},
   "outputs": [
    {
     "name": "stdout",
     "output_type": "stream",
     "text": [
      "1\n",
      "2\n"
     ]
    }
   ],
   "source": [
    "# -x & x \n",
    "\n",
    "# the right most one bit\n",
    "\n",
    "# say x = 5, 101, -5 is ~x+1\n",
    "\n",
    "a = 5 # 101   , -a = ^a + 1 is 1010 + 1 = 1011 , so a & -a is 0001\n",
    "\n",
    "print(-a&a) # 0001\n",
    "\n",
    "b = 6 # 110   , -b = ^b + 1 is 1001 + 1 = 1010, so b & -b is 0010\n",
    "\n",
    "print(-b&b) # 0010\n"
   ]
  },
  {
   "cell_type": "code",
   "execution_count": 2,
   "id": "e01cfb59",
   "metadata": {},
   "outputs": [],
   "source": [
    "from typing import List\n"
   ]
  },
  {
   "cell_type": "code",
   "execution_count": 11,
   "id": "038fe38b",
   "metadata": {},
   "outputs": [],
   "source": [
    "class Solution:\n",
    "    def subsets(self, nums: List[int]) -> List[List[int]]:\n",
    "        n = len(nums)\n",
    "        output = []\n",
    "        \n",
    "        for i in range(2**n, 2**(n + 1)):\n",
    "            # generate bitmask, from 0..00 to 1..11\n",
    "            print(i)\n",
    "            bitmask = bin(i)[3:]\n",
    "            # start from the fourth bit onward\n",
    "            print(bitmask)\n",
    "            # In Python, the bin() function is used to convert an integer number into its binary representation\n",
    "            # as a string prefixed with \"0b\".\n",
    "            # print(bin(10))  # Output: '0b1010'\n",
    "            \n",
    "            # append subset corresponding to that bitmask\n",
    "            output.append([nums[j] for j in range(n) if bitmask[j] == '1'])\n",
    "        \n",
    "        return output"
   ]
  },
  {
   "cell_type": "code",
   "execution_count": 12,
   "id": "83136e9e",
   "metadata": {},
   "outputs": [
    {
     "name": "stdout",
     "output_type": "stream",
     "text": [
      "8\n",
      "000\n",
      "9\n",
      "001\n",
      "10\n",
      "010\n",
      "11\n",
      "011\n",
      "12\n",
      "100\n",
      "13\n",
      "101\n",
      "14\n",
      "110\n",
      "15\n",
      "111\n"
     ]
    },
    {
     "data": {
      "text/plain": [
       "[[], [3], [2], [2, 3], [1], [1, 3], [1, 2], [1, 2, 3]]"
      ]
     },
     "execution_count": 12,
     "metadata": {},
     "output_type": "execute_result"
    }
   ],
   "source": [
    "solution = Solution()\n",
    "solution.subsets([1,2,3])"
   ]
  },
  {
   "cell_type": "code",
   "execution_count": null,
   "id": "10c86db5",
   "metadata": {},
   "outputs": [],
   "source": []
  },
  {
   "cell_type": "code",
   "execution_count": null,
   "id": "a0ccce20",
   "metadata": {},
   "outputs": [],
   "source": []
  },
  {
   "cell_type": "code",
   "execution_count": null,
   "id": "b97e42eb",
   "metadata": {},
   "outputs": [],
   "source": []
  },
  {
   "cell_type": "code",
   "execution_count": null,
   "id": "33478e45",
   "metadata": {},
   "outputs": [],
   "source": []
  },
  {
   "cell_type": "markdown",
   "id": "6906eb2c",
   "metadata": {},
   "source": [
    "## sorting related algorithms"
   ]
  },
  {
   "cell_type": "code",
   "execution_count": 1,
   "id": "da462e2a",
   "metadata": {},
   "outputs": [],
   "source": [
    "# find kth largest element in an array\n",
    "# use quick sort "
   ]
  },
  {
   "cell_type": "code",
   "execution_count": 6,
   "id": "f33ccf24",
   "metadata": {},
   "outputs": [],
   "source": [
    "import random"
   ]
  },
  {
   "cell_type": "code",
   "execution_count": 7,
   "id": "7744dc5c",
   "metadata": {},
   "outputs": [
    {
     "data": {
      "text/plain": [
       "2"
      ]
     },
     "execution_count": 7,
     "metadata": {},
     "output_type": "execute_result"
    }
   ],
   "source": [
    "nums = [2,1,5,1,2]\n",
    "k = 2\n",
    "\n",
    "def findKthLargest(nums, k):\n",
    "    def quick_select(nums, k):\n",
    "        pivot = random.choice(nums)\n",
    "        left, mid, right = [], [], []\n",
    "        \n",
    "        for num in nums:\n",
    "            if num > pivot:\n",
    "                left.append(num)\n",
    "            elif num < pivot:\n",
    "                right.append(num)\n",
    "            else:\n",
    "                mid.append(num)\n",
    "        if k <= len(left):\n",
    "            return quick_select(left, k)\n",
    "        elif k > len(left) + len(mid):\n",
    "            return quick_select(right, k-len(left)-len(mid))\n",
    "        return pivot \n",
    "    return quick_select(nums, k)\n",
    "findKthLargest(nums, k)"
   ]
  },
  {
   "cell_type": "code",
   "execution_count": null,
   "id": "65d30217",
   "metadata": {},
   "outputs": [],
   "source": []
  },
  {
   "cell_type": "code",
   "execution_count": null,
   "id": "240f17ec",
   "metadata": {},
   "outputs": [],
   "source": []
  },
  {
   "cell_type": "markdown",
   "id": "3566a5da",
   "metadata": {},
   "source": [
    "## Trie"
   ]
  },
  {
   "cell_type": "code",
   "execution_count": 17,
   "id": "fe3e2503",
   "metadata": {},
   "outputs": [],
   "source": [
    "class WordDictionary:\n",
    "    def __init__(self):\n",
    "        self.trie = {}\n",
    "    def addWord(self, word:str) -> None:\n",
    "        node = self.trie\n",
    "        for ch in word:\n",
    "            if not ch in node:\n",
    "                node[ch] = {}\n",
    "            node = node[ch]\n",
    "        node['$'] = True \n",
    "        print(self.trie)\n",
    "        \n",
    "    def search(self, word:str) -> bool:\n",
    "        def search_in_node(word, node) -> bool:\n",
    "\n",
    "            for i, ch in enumerate(word):\n",
    "                if not ch in node:\n",
    "                    if ch == '.':\n",
    "                        for x in node:\n",
    "                            if x != '$' and search_in_node(word[i+1:], node[x]):\n",
    "                                return True \n",
    "                            return False \n",
    "                else:\n",
    "                    node = node[ch]\n",
    "            return '$' in node \n",
    "        return search_in_node(word, self.trie)"
   ]
  },
  {
   "cell_type": "code",
   "execution_count": 19,
   "id": "5df4e063",
   "metadata": {},
   "outputs": [
    {
     "name": "stdout",
     "output_type": "stream",
     "text": [
      "{'b': {'a': {'d': {'$': True}}}}\n",
      "{'b': {'a': {'d': {'$': True}}}, 'd': {'a': {'d': {'$': True}}}}\n",
      "{'b': {'a': {'d': {'$': True}}}, 'd': {'a': {'d': {'$': True}}, 'o': {'$': True}}}\n",
      "{'b': {'a': {'d': {'$': True}}}, 'd': {'a': {'d': {'$': True}}, 'o': {'$': True}}, 'm': {'a': {'d': {'$': True}}}}\n",
      "{'b': {'a': {'d': {'$': True}}}, 'd': {'a': {'d': {'$': True}}, 'o': {'$': True}}, 'm': {'a': {'d': {'$': True}}, 'o': {'p': {'$': True}}}}\n",
      "False\n",
      "True\n",
      "True\n",
      "True\n"
     ]
    }
   ],
   "source": [
    "wordDictionary = WordDictionary();\n",
    "wordDictionary.addWord(\"bad\");\n",
    "wordDictionary.addWord(\"dad\");\n",
    "wordDictionary.addWord(\"do\");\n",
    "wordDictionary.addWord(\"mad\");\n",
    "wordDictionary.addWord(\"mop\");\n",
    "print(wordDictionary.search(\"pad\"))\n",
    "print(wordDictionary.search(\"bad\"))\n",
    "print(wordDictionary.search(\".ad\"))\n",
    "print(wordDictionary.search(\"b..\"))"
   ]
  },
  {
   "cell_type": "code",
   "execution_count": null,
   "id": "f85ff112",
   "metadata": {},
   "outputs": [],
   "source": []
  },
  {
   "cell_type": "code",
   "execution_count": null,
   "id": "06395ecc",
   "metadata": {},
   "outputs": [],
   "source": []
  },
  {
   "cell_type": "code",
   "execution_count": null,
   "id": "18f2ae45",
   "metadata": {},
   "outputs": [],
   "source": []
  },
  {
   "cell_type": "code",
   "execution_count": null,
   "id": "504e35e3",
   "metadata": {},
   "outputs": [],
   "source": []
  },
  {
   "cell_type": "code",
   "execution_count": null,
   "id": "cf67d42e",
   "metadata": {},
   "outputs": [],
   "source": []
  },
  {
   "cell_type": "code",
   "execution_count": null,
   "id": "643fd69e",
   "metadata": {},
   "outputs": [],
   "source": []
  }
 ],
 "metadata": {
  "kernelspec": {
   "display_name": "Python 3 (ipykernel)",
   "language": "python",
   "name": "python3"
  },
  "language_info": {
   "codemirror_mode": {
    "name": "ipython",
    "version": 3
   },
   "file_extension": ".py",
   "mimetype": "text/x-python",
   "name": "python",
   "nbconvert_exporter": "python",
   "pygments_lexer": "ipython3",
   "version": "3.8.12"
  }
 },
 "nbformat": 4,
 "nbformat_minor": 5
}
